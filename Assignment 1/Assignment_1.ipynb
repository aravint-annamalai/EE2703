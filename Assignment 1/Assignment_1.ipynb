{
 "cells": [
  {
   "cell_type": "code",
   "execution_count": 2,
   "metadata": {},
   "outputs": [
    {
     "name": "stdout",
     "output_type": "stream",
     "text": [
      "Enter name of file ckt2.netlist\n",
      "Invalid netlist file\n"
     ]
    },
    {
     "data": {
      "text/plain": [
       "['R1 1 GND 1e3',\n",
       " 'R2 1 2 2e3',\n",
       " 'R3 2 3 4e3',\n",
       " 'V1 3 GND 2',\n",
       " 'V2 2 4 5',\n",
       " 'R4 4 5 5e3',\n",
       " 'I1 5 GND 1',\n",
       " 'R6 4 6 8e3',\n",
       " 'I2 GND 6 10',\n",
       " '']"
      ]
     },
     "execution_count": 2,
     "metadata": {},
     "output_type": "execute_result"
    }
   ],
   "source": [
    "filename = input(\"Enter name of file \")\n",
    "\n",
    "try:\n",
    "    filename = str(filename)\n",
    "except Exception:\n",
    "    print(\"Invalid filename\")\n",
    "    exit(0)\n",
    "    \n",
    "try:\n",
    "    with open(filename) as f:\n",
    "        lines = f.readlines()\n",
    "        for i in range(len(lines)):\n",
    "            lines[i] = lines[i].strip('\\n')\n",
    "            lines[i] = lines[i].split(\"#\")[0]\n",
    "except Exception:\n",
    "    print(\"File not present in current directory\")\n",
    "    exit(0)\n",
    "\n",
    "try:\n",
    "    start = lines.index(\".circuit\")\n",
    "    end = lines.index(\".end\")\n",
    "    lines = lines[start+1:end]\n",
    "    for i in range(len(lines)):\n",
    "        lines[i] = ' '.join(reversed(lines[i].split()))\n",
    "except Exception:\n",
    "    print(\"Invalid netlist file\")\n",
    "    exit(0)\n",
    "    \n",
    "lines"
   ]
  },
  {
   "cell_type": "code",
   "execution_count": null,
   "metadata": {},
   "outputs": [],
   "source": []
  },
  {
   "cell_type": "code",
   "execution_count": null,
   "metadata": {},
   "outputs": [],
   "source": []
  }
 ],
 "metadata": {
  "kernelspec": {
   "display_name": "Python 3",
   "language": "python",
   "name": "python3"
  },
  "language_info": {
   "codemirror_mode": {
    "name": "ipython",
    "version": 3
   },
   "file_extension": ".py",
   "mimetype": "text/x-python",
   "name": "python",
   "nbconvert_exporter": "python",
   "pygments_lexer": "ipython3",
   "version": "3.7.4"
  }
 },
 "nbformat": 4,
 "nbformat_minor": 2
}
